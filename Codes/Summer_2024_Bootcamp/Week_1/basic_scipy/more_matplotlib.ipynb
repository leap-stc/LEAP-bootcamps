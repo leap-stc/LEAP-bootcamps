{
 "cells": [
  {
   "cell_type": "markdown",
   "metadata": {},
   "source": [
    "This notebook is adapted from Ryan Abernathey lecture on: https://github.com/earth-env-data-science/earth-env-data-science-book"
   ]
  },
  {
   "cell_type": "markdown",
   "metadata": {},
   "source": [
    "# More Matplotlib\n",
    "\n",
    "Matplotlib is the dominant plotting / visualization package in python. It is important to learn to use it well. In the last lecture, we saw some basic examples in the context of learning numpy. This week, we dive much deeper. The goal is to understand how matplotlib represents figures internally."
   ]
  },
  {
   "cell_type": "code",
   "execution_count": null,
   "metadata": {},
   "outputs": [],
   "source": [
    "from matplotlib import pyplot as plt\n",
    "%matplotlib inline"
   ]
  },
  {
   "cell_type": "markdown",
   "metadata": {},
   "source": [
    "## Figure and Axes\n",
    "\n",
    "The *figure* is the highest level of organization of matplotlib objects. If we want, we can create a figure explicitly."
   ]
  },
  {
   "cell_type": "code",
   "execution_count": null,
   "metadata": {},
   "outputs": [],
   "source": [
    "fig = plt.figure()"
   ]
  },
  {
   "cell_type": "code",
   "execution_count": null,
   "metadata": {},
   "outputs": [],
   "source": [
    "fig = plt.figure(figsize=(13, 5))"
   ]
  },
  {
   "cell_type": "code",
   "execution_count": null,
   "metadata": {},
   "outputs": [],
   "source": [
    "fig = plt.figure()\n",
    "ax = fig.add_axes([0, 0, 1, 1])"
   ]
  },
  {
   "cell_type": "code",
   "execution_count": null,
   "metadata": {},
   "outputs": [],
   "source": [
    "fig = plt.figure()\n",
    "ax = fig.add_axes([0, 0, 0.5, 1])"
   ]
  },
  {
   "cell_type": "code",
   "execution_count": null,
   "metadata": {},
   "outputs": [],
   "source": [
    "fig = plt.figure()\n",
    "ax1 = fig.add_axes([0, 0, 0.5, 1])\n",
    "ax2 = fig.add_axes([0.6, 0, 0.3, 0.5], facecolor='g')"
   ]
  },
  {
   "cell_type": "markdown",
   "metadata": {},
   "source": [
    "### Subplots\n",
    "\n",
    "Subplot syntax is one way to specify the creation of multiple axes."
   ]
  },
  {
   "cell_type": "code",
   "execution_count": null,
   "metadata": {},
   "outputs": [],
   "source": [
    "fig = plt.figure()\n",
    "axes = fig.subplots(nrows=2, ncols=3)"
   ]
  },
  {
   "cell_type": "code",
   "execution_count": null,
   "metadata": {},
   "outputs": [],
   "source": [
    "fig = plt.figure(figsize=(12, 6))\n",
    "axes = fig.subplots(nrows=2, ncols=3)"
   ]
  },
  {
   "cell_type": "code",
   "execution_count": null,
   "metadata": {},
   "outputs": [],
   "source": [
    "axes"
   ]
  },
  {
   "cell_type": "markdown",
   "metadata": {},
   "source": [
    "There is a shorthand for doing this all at once.\n",
    "\n",
    "__This is our recommended way to create new figures!__"
   ]
  },
  {
   "cell_type": "code",
   "execution_count": null,
   "metadata": {},
   "outputs": [],
   "source": [
    "fig, ax = plt.subplots()"
   ]
  },
  {
   "cell_type": "code",
   "execution_count": null,
   "metadata": {},
   "outputs": [],
   "source": [
    "ax"
   ]
  },
  {
   "cell_type": "code",
   "execution_count": null,
   "metadata": {},
   "outputs": [],
   "source": [
    "fig, axes = plt.subplots(ncols=2, figsize=(8, 4), subplot_kw={'facecolor': 'g'})"
   ]
  },
  {
   "cell_type": "code",
   "execution_count": null,
   "metadata": {},
   "outputs": [],
   "source": [
    "axes"
   ]
  },
  {
   "cell_type": "markdown",
   "metadata": {},
   "source": [
    "## Drawing into Axes\n",
    "\n",
    "All plots are drawn into axes. It is easiest to understand how matplotlib works if you use the [object-oriented style](https://matplotlib.org/faq/usage_faq.html#coding-styles)."
   ]
  },
  {
   "cell_type": "code",
   "execution_count": null,
   "metadata": {},
   "outputs": [],
   "source": [
    "# create some data to plot\n",
    "import numpy as np\n",
    "x = np.linspace(-np.pi, np.pi, 100)\n",
    "y = np.cos(x)\n",
    "z = np.sin(6*x)"
   ]
  },
  {
   "cell_type": "code",
   "execution_count": null,
   "metadata": {},
   "outputs": [],
   "source": [
    "fig, ax = plt.subplots()\n",
    "ax.plot(x, y)"
   ]
  },
  {
   "cell_type": "markdown",
   "metadata": {},
   "source": [
    "This does the same thing as"
   ]
  },
  {
   "cell_type": "code",
   "execution_count": null,
   "metadata": {},
   "outputs": [],
   "source": [
    "plt.plot(x, y)"
   ]
  },
  {
   "cell_type": "markdown",
   "metadata": {},
   "source": [
    "This starts to matter when we have multiple axes to worry about."
   ]
  },
  {
   "cell_type": "code",
   "execution_count": null,
   "metadata": {},
   "outputs": [],
   "source": [
    "fig, axes = plt.subplots(figsize=(8, 4), ncols=2)\n",
    "ax0, ax1 = axes\n",
    "ax0.plot(x, y)\n",
    "ax1.plot(x, z)"
   ]
  },
  {
   "cell_type": "markdown",
   "metadata": {},
   "source": [
    "## Labeling Plots"
   ]
  },
  {
   "cell_type": "code",
   "execution_count": null,
   "metadata": {},
   "outputs": [],
   "source": [
    "fig, axes = plt.subplots(figsize=(8, 4), ncols=2)\n",
    "ax0, ax1 = axes\n",
    "\n",
    "ax0.plot(x, y)\n",
    "ax0.set_xlabel('x')\n",
    "ax0.set_ylabel('y')\n",
    "ax0.set_title('x vs. y')\n",
    "\n",
    "ax1.plot(x, z)\n",
    "ax1.set_xlabel('x')\n",
    "ax1.set_ylabel('z')\n",
    "ax1.set_title('x vs. z')\n",
    "\n",
    "# squeeze everything in\n",
    "plt.tight_layout()"
   ]
  },
  {
   "cell_type": "markdown",
   "metadata": {},
   "source": [
    "## Customizing Line Plots"
   ]
  },
  {
   "cell_type": "code",
   "execution_count": null,
   "metadata": {},
   "outputs": [],
   "source": [
    "fig, ax = plt.subplots()\n",
    "ax.plot(x, y, x, z)"
   ]
  },
  {
   "cell_type": "markdown",
   "metadata": {},
   "source": [
    "It's simple to switch axes"
   ]
  },
  {
   "cell_type": "code",
   "execution_count": null,
   "metadata": {},
   "outputs": [],
   "source": [
    "fig, ax = plt.subplots()\n",
    "ax.plot(y, x, z, x)"
   ]
  },
  {
   "cell_type": "markdown",
   "metadata": {},
   "source": [
    "A \"parametric\" graph:"
   ]
  },
  {
   "cell_type": "code",
   "execution_count": null,
   "metadata": {},
   "outputs": [],
   "source": [
    "fig, ax = plt.subplots()\n",
    "ax.plot(y, z)"
   ]
  },
  {
   "cell_type": "markdown",
   "metadata": {},
   "source": [
    "### Line Styles"
   ]
  },
  {
   "cell_type": "code",
   "execution_count": null,
   "metadata": {},
   "outputs": [],
   "source": [
    "fig, axes = plt.subplots(figsize=(16, 5), ncols=3)\n",
    "axes[0].plot(x, y, linestyle='dashed')\n",
    "axes[0].plot(x, z, linestyle='--')\n",
    "\n",
    "axes[1].plot(x, y, linestyle='dotted')\n",
    "axes[1].plot(x, z, linestyle=':')\n",
    "\n",
    "axes[2].plot(x, y, linestyle='dashdot', linewidth=5)\n",
    "axes[2].plot(x, z, linestyle='-.', linewidth=0.5)\n"
   ]
  },
  {
   "cell_type": "markdown",
   "metadata": {},
   "source": [
    "### Colors\n",
    "\n",
    "As described in the [colors documentation](https://matplotlib.org/2.0.2/api/colors_api.html), there are some special codes for commonly used colors:\n",
    "\n",
    "- b: blue\n",
    "- g: green\n",
    "- r: red\n",
    "- c: cyan\n",
    "- m: magenta\n",
    "- y: yellow\n",
    "- k: black\n",
    "- w: white"
   ]
  },
  {
   "cell_type": "code",
   "execution_count": null,
   "metadata": {},
   "outputs": [],
   "source": [
    "fig, ax = plt.subplots()\n",
    "ax.plot(x, y, color='k')\n",
    "ax.plot(x, z, color='r')"
   ]
  },
  {
   "cell_type": "markdown",
   "metadata": {},
   "source": [
    "Other ways to specify colors:"
   ]
  },
  {
   "cell_type": "code",
   "execution_count": null,
   "metadata": {},
   "outputs": [],
   "source": [
    "fig, axes = plt.subplots(figsize=(16, 5), ncols=3)\n",
    "\n",
    "# grayscale\n",
    "axes[0].plot(x, y, color='0.8')\n",
    "axes[0].plot(x, z, color='0.2')\n",
    "\n",
    "# RGB tuple\n",
    "axes[1].plot(x, y, color=(1, 0, 0.7))\n",
    "axes[1].plot(x, z, color=(0, 0.4, 0.3))\n",
    "\n",
    "# HTML hex code\n",
    "axes[2].plot(x, y, color='#00dcba')\n",
    "axes[2].plot(x, z, color='#b029ee')"
   ]
  },
  {
   "cell_type": "markdown",
   "metadata": {},
   "source": [
    "There is a default color cycle built into matplotlib."
   ]
  },
  {
   "cell_type": "code",
   "execution_count": null,
   "metadata": {},
   "outputs": [],
   "source": [
    "plt.rcParams['axes.prop_cycle']"
   ]
  },
  {
   "cell_type": "code",
   "execution_count": null,
   "metadata": {},
   "outputs": [],
   "source": [
    "fig, ax = plt.subplots(figsize=(12, 10))\n",
    "for factor in np.linspace(0.2, 1, 11):\n",
    "    ax.plot(x, factor*y)"
   ]
  },
  {
   "cell_type": "markdown",
   "metadata": {},
   "source": [
    "### Markers\n",
    "\n",
    "There are [lots of different markers](https://matplotlib.org/api/markers_api.html) availabile in matplotlib!"
   ]
  },
  {
   "cell_type": "code",
   "execution_count": null,
   "metadata": {},
   "outputs": [],
   "source": [
    "fig, axes = plt.subplots(figsize=(12, 5), ncols=2)\n",
    "\n",
    "axes[0].plot(x[:20], y[:20], marker='.')\n",
    "axes[0].plot(x[:20], z[:20], marker='o')\n",
    "\n",
    "axes[1].plot(x[:20], z[:20], marker='^',\n",
    "             markersize=10, markerfacecolor='r',\n",
    "             markeredgecolor='k')"
   ]
  },
  {
   "cell_type": "markdown",
   "metadata": {},
   "source": [
    "### Label, Ticks, and Gridlines"
   ]
  },
  {
   "cell_type": "code",
   "execution_count": null,
   "metadata": {},
   "outputs": [],
   "source": [
    "fig, ax = plt.subplots(figsize=(12, 7))\n",
    "ax.plot(x, y)\n",
    "\n",
    "ax.set_xlabel('x')\n",
    "ax.set_ylabel('y')\n",
    "ax.set_title(r'A complicated math function: $f(x) = \\cos(x)$')\n",
    "\n",
    "ax.set_xticks(np.pi * np.array([-1, 0, 1]))\n",
    "ax.set_xticklabels([r'$-\\pi$', '0', r'$\\pi$'])\n",
    "ax.set_yticks([-1, 0, 1])\n",
    "\n",
    "ax.set_yticks(np.arange(-1, 1.1, 0.2), minor=True)\n",
    "#ax.set_xticks(np.arange(-3, 3.1, 0.2), minor=True)\n",
    "\n",
    "ax.grid(which='minor', linestyle='--')\n",
    "ax.grid(which='major', linewidth=2)\n"
   ]
  },
  {
   "cell_type": "markdown",
   "metadata": {},
   "source": [
    "### Axis Limits"
   ]
  },
  {
   "cell_type": "code",
   "execution_count": null,
   "metadata": {},
   "outputs": [],
   "source": [
    "fig, ax = plt.subplots()\n",
    "ax.plot(x, y, x, z)\n",
    "ax.set_xlim(-5, 5)\n",
    "ax.set_ylim(-3, 3)"
   ]
  },
  {
   "cell_type": "markdown",
   "metadata": {},
   "source": [
    "### Text Annotations"
   ]
  },
  {
   "cell_type": "code",
   "execution_count": null,
   "metadata": {},
   "outputs": [],
   "source": [
    "fig, ax = plt.subplots()\n",
    "ax.plot(x, y)\n",
    "ax.text(-3, 0.3, 'hello world')\n",
    "ax.annotate('the maximum', xy=(0, 1),\n",
    "             xytext=(0, 0), arrowprops={'facecolor': 'k'})"
   ]
  },
  {
   "cell_type": "markdown",
   "metadata": {},
   "source": [
    "## Other 1D Plots\n",
    "\n",
    "### Scatter Plots"
   ]
  },
  {
   "cell_type": "code",
   "execution_count": null,
   "metadata": {},
   "outputs": [],
   "source": [
    "fig, ax = plt.subplots()\n",
    "\n",
    "splot = ax.scatter(y, z, c=x, s=(100*z**2 + 5))\n",
    "fig.colorbar(splot)"
   ]
  },
  {
   "cell_type": "markdown",
   "metadata": {},
   "source": [
    "### Bar Plots"
   ]
  },
  {
   "cell_type": "code",
   "execution_count": null,
   "metadata": {},
   "outputs": [],
   "source": [
    "labels = ['first', 'second', 'third']\n",
    "values = [10, 5, 30]\n",
    "\n",
    "fig, axes = plt.subplots(figsize=(10, 5), ncols=2)\n",
    "axes[0].bar(labels, values)\n",
    "axes[1].barh(labels, values)"
   ]
  },
  {
   "cell_type": "markdown",
   "metadata": {},
   "source": [
    "## 2D Plotting Methods\n",
    "\n",
    "### imshow"
   ]
  },
  {
   "cell_type": "code",
   "execution_count": null,
   "metadata": {},
   "outputs": [],
   "source": [
    "x1d = np.linspace(-2*np.pi, 2*np.pi, 100)\n",
    "y1d = np.linspace(-np.pi, np.pi, 50)\n",
    "xx, yy = np.meshgrid(x1d, y1d)\n",
    "f = np.cos(xx) * np.sin(yy)\n",
    "print(f.shape)"
   ]
  },
  {
   "cell_type": "code",
   "execution_count": null,
   "metadata": {},
   "outputs": [],
   "source": [
    "fig, ax = plt.subplots(figsize=(12,4), ncols=2)\n",
    "ax[0].imshow(f)\n",
    "ax[1].imshow(f, origin='lower')"
   ]
  },
  {
   "cell_type": "markdown",
   "metadata": {},
   "source": [
    "### pcolormesh"
   ]
  },
  {
   "cell_type": "code",
   "execution_count": null,
   "metadata": {},
   "outputs": [],
   "source": [
    "fig, ax = plt.subplots(ncols=2, figsize=(12, 5))\n",
    "pc0 = ax[0].pcolormesh(x1d, y1d, f)\n",
    "pc1 = ax[1].pcolormesh(xx, yy, f)\n",
    "fig.colorbar(pc0, ax=ax[0])\n",
    "fig.colorbar(pc1, ax=ax[1])\n"
   ]
  },
  {
   "cell_type": "code",
   "execution_count": null,
   "metadata": {},
   "outputs": [],
   "source": [
    "x_sm, y_sm, f_sm = xx[:10, :10], yy[:10, :10], f[:10, :10]\n",
    "\n",
    "fig, ax = plt.subplots(figsize=(12,5), ncols=2)\n",
    "\n",
    "# last row and column ignored!\n",
    "ax[0].pcolormesh(x_sm, y_sm, f_sm, edgecolors='k')\n",
    "\n",
    "# same!\n",
    "ax[1].pcolormesh(x_sm, y_sm, f_sm[:-1, :-1], edgecolors='k')\n"
   ]
  },
  {
   "cell_type": "code",
   "execution_count": null,
   "metadata": {},
   "outputs": [],
   "source": [
    "y_distorted = y_sm*(1 + 0.1*np.cos(6*x_sm))\n",
    "\n",
    "plt.figure(figsize=(12,6))\n",
    "plt.pcolormesh(x_sm, y_distorted, f_sm[:-1, :-1], edgecolors='w')\n",
    "plt.scatter(x_sm, y_distorted, c='k')"
   ]
  },
  {
   "cell_type": "markdown",
   "metadata": {},
   "source": [
    "### contour / contourf"
   ]
  },
  {
   "cell_type": "code",
   "execution_count": null,
   "metadata": {},
   "outputs": [],
   "source": [
    "fig, ax = plt.subplots(figsize=(12, 5), ncols=2)\n",
    "\n",
    "# same thing!\n",
    "ax[0].contour(x1d, y1d, f)\n",
    "ax[1].contour(xx, yy, f)"
   ]
  },
  {
   "cell_type": "code",
   "execution_count": null,
   "metadata": {},
   "outputs": [],
   "source": [
    "fig, ax = plt.subplots(figsize=(12, 5), ncols=2)\n",
    "\n",
    "c0 = ax[0].contour(xx, yy, f, 5)\n",
    "c1 = ax[1].contour(xx, yy, f, 20)\n",
    "\n",
    "plt.clabel(c0, fmt='%2.1f')\n",
    "plt.colorbar(c1, ax=ax[1])"
   ]
  },
  {
   "cell_type": "code",
   "execution_count": null,
   "metadata": {},
   "outputs": [],
   "source": [
    "fig, ax = plt.subplots(figsize=(12, 5), ncols=2)\n",
    "\n",
    "clevels = np.arange(-1, 1, 0.2) + 0.1\n",
    "\n",
    "cf0 = ax[0].contourf(xx, yy, f, clevels, cmap='RdBu_r', extend='both')\n",
    "cf1 = ax[1].contourf(xx, yy, f, clevels, cmap='inferno', extend='both')\n",
    "\n",
    "fig.colorbar(cf0, ax=ax[0])\n",
    "fig.colorbar(cf1, ax=ax[1])\n"
   ]
  },
  {
   "cell_type": "markdown",
   "metadata": {},
   "source": [
    "### quiver"
   ]
  },
  {
   "cell_type": "code",
   "execution_count": null,
   "metadata": {},
   "outputs": [],
   "source": [
    "u = -np.cos(xx) * np.cos(yy)\n",
    "v = -np.sin(xx) * np.sin(yy)\n",
    "\n",
    "fig, ax = plt.subplots(figsize=(12, 7))\n",
    "ax.contour(xx, yy, f, clevels, cmap='RdBu_r', extend='both', zorder=0)\n",
    "ax.quiver(xx[::4, ::4], yy[::4, ::4],\n",
    "           u[::4, ::4], v[::4, ::4], zorder=1)"
   ]
  },
  {
   "cell_type": "markdown",
   "metadata": {},
   "source": [
    "### streamplot"
   ]
  },
  {
   "cell_type": "code",
   "execution_count": null,
   "metadata": {},
   "outputs": [],
   "source": [
    "fig, ax = plt.subplots(figsize=(12, 7))\n",
    "ax.streamplot(xx, yy, u, v, density=2, color=(u**2 + v**2))"
   ]
  },
  {
   "cell_type": "code",
   "execution_count": null,
   "metadata": {},
   "outputs": [],
   "source": []
  }
 ],
 "metadata": {
  "kernelspec": {
   "display_name": "Python 3 (ipykernel)",
   "language": "python",
   "name": "python3"
  },
  "language_info": {
   "codemirror_mode": {
    "name": "ipython",
    "version": 3
   },
   "file_extension": ".py",
   "mimetype": "text/x-python",
   "name": "python",
   "nbconvert_exporter": "python",
   "pygments_lexer": "ipython3",
   "version": "3.11.9"
  }
 },
 "nbformat": 4,
 "nbformat_minor": 4
}
