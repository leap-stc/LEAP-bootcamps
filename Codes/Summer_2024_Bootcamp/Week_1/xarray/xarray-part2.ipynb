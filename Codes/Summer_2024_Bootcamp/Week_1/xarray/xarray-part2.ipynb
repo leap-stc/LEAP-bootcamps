{
 "cells": [
  {
   "cell_type": "markdown",
   "metadata": {},
   "source": [
    "This notebook is adapted from Ryan Abernathey lecture on: https://github.com/earth-env-data-science/earth-env-data-science-book"
   ]
  },
  {
   "cell_type": "markdown",
   "metadata": {},
   "source": [
    "# Xarray Interpolation, Groupby, Resample, Rolling, and Coarsen\n",
    "\n",
    "In this lesson, we cover some more advanced aspects of xarray."
   ]
  },
  {
   "cell_type": "code",
   "execution_count": null,
   "metadata": {},
   "outputs": [],
   "source": [
    "import numpy as np\n",
    "import xarray as xr\n",
    "from matplotlib import pyplot as plt\n",
    "%xmode Minimal"
   ]
  },
  {
   "cell_type": "markdown",
   "metadata": {},
   "source": [
    "## Interpolation\n",
    "\n",
    "In the previous lesson on Xarray, we learned how to select data based on its dimension coordinates and align data with dimension different coordinates.\n",
    "But what if we want to estimate the value of the data variables at _different coordinates_.\n",
    "This is where interpolation comes in."
   ]
  },
  {
   "cell_type": "code",
   "execution_count": null,
   "metadata": {},
   "outputs": [],
   "source": [
    "# we write it out explicitly so we can see each point.\n",
    "x_data = np.array([0, 1, 2, 3, 4, 5, 6, 7, 8, 9, 10])\n",
    "f = xr.DataArray(x_data**2, dims=['x'], coords={'x': x_data})\n",
    "f"
   ]
  },
  {
   "cell_type": "code",
   "execution_count": null,
   "metadata": {},
   "outputs": [],
   "source": [
    "f.plot(marker='o')"
   ]
  },
  {
   "cell_type": "markdown",
   "metadata": {},
   "source": [
    "We only have data on the integer points in x.\n",
    "But what if we wanted to estimate the value at, say, 4.5?"
   ]
  },
  {
   "cell_type": "code",
   "execution_count": null,
   "metadata": {},
   "outputs": [],
   "source": [
    "# TODO: sel x=4.5"
   ]
  },
  {
   "cell_type": "markdown",
   "metadata": {},
   "source": [
    "Interpolation to the rescue!"
   ]
  },
  {
   "cell_type": "code",
   "execution_count": null,
   "metadata": {},
   "outputs": [],
   "source": [
    "# TODO: use .interp"
   ]
  },
  {
   "cell_type": "markdown",
   "metadata": {},
   "source": [
    "Interpolation uses [scipy.interpolate](https://docs.scipy.org/doc/scipy/reference/interpolate.html) under the hood.\n",
    "There are different modes of interpolation."
   ]
  },
  {
   "cell_type": "code",
   "execution_count": null,
   "metadata": {},
   "outputs": [],
   "source": [
    "# TODO: default method='linear'"
   ]
  },
  {
   "cell_type": "code",
   "execution_count": null,
   "metadata": {},
   "outputs": [],
   "source": [
    "# TODO: method='nearest'"
   ]
  },
  {
   "cell_type": "code",
   "execution_count": null,
   "metadata": {},
   "outputs": [],
   "source": [
    "# TODO: method='cubic'"
   ]
  },
  {
   "cell_type": "markdown",
   "metadata": {},
   "source": [
    "We can interpolate to a whole new coordinate at once:"
   ]
  },
  {
   "cell_type": "code",
   "execution_count": null,
   "metadata": {},
   "outputs": [],
   "source": [
    "x_new = x_data + 0.5\n",
    "f_interp_linear = f.interp(x=x_new, method='linear')\n",
    "f_interp_cubic = f.interp(x=x_new, method='cubic')\n",
    "f.plot(marker='o', label='original')\n",
    "f_interp_linear.plot(marker='o', label='linear')\n",
    "f_interp_cubic.plot(marker='o', label='cubic')\n",
    "plt.legend()"
   ]
  },
  {
   "cell_type": "markdown",
   "metadata": {},
   "source": [
    "Note that values outside of the original range are not supported:"
   ]
  },
  {
   "cell_type": "code",
   "execution_count": null,
   "metadata": {},
   "outputs": [],
   "source": [
    "f_interp_linear.values"
   ]
  },
  {
   "cell_type": "markdown",
   "metadata": {},
   "source": [
    "```{note}\n",
    "You can apply interpolation to any dimension, and even to multiple dimensions at a time.\n",
    "(Multidimensional interpolation only supports `mode='nearest'` and `mode='linear'`.)\n",
    "But keep in mind that _Xarray has no built-in understanding of geography_.\n",
    "If you use `interp` on lat / lon coordinates, it will just perform naive interpolation of the lat / lon values.\n",
    "More sophisticated treatment of spherical geometry requires another package such as [xesmf](https://xesmf.readthedocs.io/).\n",
    "```"
   ]
  },
  {
   "cell_type": "markdown",
   "metadata": {
    "tags": []
   },
   "source": [
    "## Groupby\n",
    "\n",
    "Xarray copies Pandas' very useful groupby functionality, enabling the \"split / apply / combine\" workflow on xarray DataArrays and Datasets. In the first part of the lesson, we will learn to use groupby by analyzing sea-surface temperature data."
   ]
  },
  {
   "cell_type": "markdown",
   "metadata": {},
   "source": [
    "First we load a dataset. We will use the [NOAA Extended Reconstructed Sea Surface Temperature (ERSST) v5](https://www.ncdc.noaa.gov/data-access/marineocean-data/extended-reconstructed-sea-surface-temperature-ersst-v5) product, a widely used and trusted gridded compilation of of historical data going back to 1854.\n",
    "\n",
    "Since the data is provided via an [OPeNDAP](https://en.wikipedia.org/wiki/OPeNDAP) server, we can load it directly without downloading anything:"
   ]
  },
  {
   "cell_type": "code",
   "execution_count": null,
   "metadata": {},
   "outputs": [],
   "source": [
    "!wget 'https://downloads.psl.noaa.gov/Datasets/noaa.ersst.v5/sst.mnmean.nc' -O 'sst.mnmean.nc'"
   ]
  },
  {
   "cell_type": "code",
   "execution_count": null,
   "metadata": {},
   "outputs": [],
   "source": [
    "ds = xr.open_dataset('sst.mnmean.nc', drop_variables=['time_bnds'])\n",
    "ds = ds.sel(time=slice('1960', '2018')).load()\n",
    "ds"
   ]
  },
  {
   "cell_type": "markdown",
   "metadata": {},
   "source": [
    "Let's do some basic visualizations of the data, just to make sure it looks reasonable."
   ]
  },
  {
   "cell_type": "code",
   "execution_count": null,
   "metadata": {},
   "outputs": [],
   "source": [
    "ds.sst[0].plot(vmin=-2, vmax=30)"
   ]
  },
  {
   "cell_type": "markdown",
   "metadata": {},
   "source": [
    "Note that xarray correctly parsed the time index, resulting in a Pandas datetime index on the time dimension."
   ]
  },
  {
   "cell_type": "code",
   "execution_count": null,
   "metadata": {},
   "outputs": [],
   "source": [
    "ds.time"
   ]
  },
  {
   "cell_type": "code",
   "execution_count": null,
   "metadata": {},
   "outputs": [],
   "source": [
    "ds.sst.sel(lon=300, lat=50).plot()"
   ]
  },
  {
   "cell_type": "markdown",
   "metadata": {},
   "source": [
    "As we can see from the plot, the timeseries at any one point is totally dominated by the seasonal cycle. We would like to remove this seasonal cycle (called the \"climatology\") in order to better see the long-term variaitions in temperature. We will accomplish this using **groupby**.\n",
    "\n",
    "The syntax of Xarray's groupby is almost identical to Pandas.\n",
    "We will first apply groupby to a single DataArray."
   ]
  },
  {
   "cell_type": "code",
   "execution_count": null,
   "metadata": {},
   "outputs": [],
   "source": [
    "ds.sst.groupby?"
   ]
  },
  {
   "cell_type": "markdown",
   "metadata": {},
   "source": [
    "### Split Step\n",
    "\n",
    "The most important argument is `group`: this defines the unique values we will us to \"split\" the data for grouped analysis. We can pass either a DataArray or a name of a variable in the dataset. Lets first use a DataArray. Just like with Pandas, we can use the time indexe to extract specific components of dates and times. Xarray uses a special syntax for this `.dt`, called the `DatetimeAccessor`."
   ]
  },
  {
   "cell_type": "code",
   "execution_count": null,
   "metadata": {},
   "outputs": [],
   "source": [
    "ds.time.dt"
   ]
  },
  {
   "cell_type": "code",
   "execution_count": null,
   "metadata": {},
   "outputs": [],
   "source": [
    "ds.time.dt.month"
   ]
  },
  {
   "cell_type": "code",
   "execution_count": null,
   "metadata": {},
   "outputs": [],
   "source": [
    "ds.time.dt.year"
   ]
  },
  {
   "cell_type": "markdown",
   "metadata": {},
   "source": [
    "We can use these arrays in a groupby operation:"
   ]
  },
  {
   "cell_type": "code",
   "execution_count": null,
   "metadata": {},
   "outputs": [],
   "source": [
    "gb = ds.sst.groupby('time.month')\n",
    "gb"
   ]
  },
  {
   "cell_type": "markdown",
   "metadata": {},
   "source": [
    "Now that the data are split, we can manually iterate over the group. The iterator returns the key (group name) and the value (the actual dataset corresponding to that group) for each group."
   ]
  },
  {
   "cell_type": "code",
   "execution_count": null,
   "metadata": {},
   "outputs": [],
   "source": [
    "for group_name, group_da in gb:\n",
    "    # stop iterating after the first loop\n",
    "    break \n",
    "print(group_name)\n",
    "group_da"
   ]
  },
  {
   "cell_type": "code",
   "execution_count": null,
   "metadata": {},
   "outputs": [],
   "source": [
    "# TODO: plot the group in time"
   ]
  },
  {
   "cell_type": "markdown",
   "metadata": {},
   "source": [
    "### Map & Combine\n",
    "\n",
    "Now that we have groups defined, it's time to \"apply\" a calculation to the group. Like in Pandas, these calculations can either be:\n",
    "- _aggregation_: reduces the size of the group\n",
    "- _transformation_: preserves the group's full size\n",
    "\n",
    "At then end of the apply step, xarray will automatically combine the aggregated / transformed groups back into a single object.\n",
    "\n",
    "```{warning}\n",
    "Xarray calls the \"apply\" step `map`. This is different from Pandas!\n",
    "```\n",
    "\n",
    "The most fundamental way to apply is with the `.map` method."
   ]
  },
  {
   "cell_type": "code",
   "execution_count": null,
   "metadata": {},
   "outputs": [],
   "source": [
    "gb.map?"
   ]
  },
  {
   "cell_type": "markdown",
   "metadata": {},
   "source": [
    "#### Aggregations\n",
    "\n",
    "`.apply` accepts as its argument a function. We can pass an existing function:"
   ]
  },
  {
   "cell_type": "code",
   "execution_count": null,
   "metadata": {},
   "outputs": [],
   "source": [
    "gb.map(np.mean)"
   ]
  },
  {
   "cell_type": "markdown",
   "metadata": {},
   "source": [
    "Because we specified no extra arguments (like `axis`) the function was applied over all space and time dimensions. This is not what we wanted. Instead, we could define a custom function. This function takes a single argument--the group dataset--and returns a new dataset to be combined:"
   ]
  },
  {
   "cell_type": "code",
   "execution_count": null,
   "metadata": {},
   "outputs": [],
   "source": [
    "def time_mean(a):\n",
    "    return a.mean(dim='time')\n",
    "\n",
    "gb.apply(time_mean)"
   ]
  },
  {
   "cell_type": "code",
   "execution_count": null,
   "metadata": {},
   "outputs": [],
   "source": [
    "# TODO: plot the first month"
   ]
  },
  {
   "cell_type": "markdown",
   "metadata": {},
   "source": [
    "Like Pandas, xarray's groupby object has many built-in aggregation operations (e.g. `mean`, `min`, `max`, `std`, etc):"
   ]
  },
  {
   "cell_type": "code",
   "execution_count": null,
   "metadata": {},
   "outputs": [],
   "source": [
    "# this does the same thing as the previous cell\n",
    "sst_mm = gb.mean(dim='time')\n",
    "sst_mm"
   ]
  },
  {
   "cell_type": "markdown",
   "metadata": {},
   "source": [
    "So we did what we wanted to do: calculate the climatology at every point in the dataset. Let's look at the data a bit.\n",
    "\n",
    "_Climatlogy at a specific point in the North Atlantic_"
   ]
  },
  {
   "cell_type": "code",
   "execution_count": null,
   "metadata": {},
   "outputs": [],
   "source": [
    "sst_mm.sel(lon=300, lat=50).plot()"
   ]
  },
  {
   "cell_type": "markdown",
   "metadata": {},
   "source": [
    "_Zonal Mean Climatolgoy_"
   ]
  },
  {
   "cell_type": "code",
   "execution_count": null,
   "metadata": {},
   "outputs": [],
   "source": [
    "sst_mm.mean(dim='lon').transpose().plot.contourf(levels=12, vmin=-2, vmax=30)"
   ]
  },
  {
   "cell_type": "markdown",
   "metadata": {},
   "source": [
    "_Difference between January and July Climatology_"
   ]
  },
  {
   "cell_type": "code",
   "execution_count": null,
   "metadata": {},
   "outputs": [],
   "source": [
    "# TODO: plot the difference between January and July climatology (sst_mm)"
   ]
  },
  {
   "cell_type": "markdown",
   "metadata": {},
   "source": [
    "#### Transformations\n",
    "\n",
    "Now we want to _remove_ this climatology from the dataset, to examine the residual, called the _anomaly_, which is the interesting part from a climate perspective.\n",
    "Removing the seasonal climatology is a perfect example of a transformation: it operates over a group, but doesn't change the size of the dataset. Here is one way to code it."
   ]
  },
  {
   "cell_type": "code",
   "execution_count": null,
   "metadata": {},
   "outputs": [],
   "source": [
    "def remove_time_mean(x):\n",
    "    return x - x.mean(dim='time')\n",
    "\n",
    "ds_anom = ds.groupby('time.month').apply(remove_time_mean)\n",
    "ds_anom"
   ]
  },
  {
   "cell_type": "markdown",
   "metadata": {},
   "source": [
    "```{note}\n",
    "In the above example, we applied `groupby` to a `Dataset` instead of a `DataArray`.\n",
    "```\n",
    "\n",
    "Xarray makes these sorts of transformations easy by supporting _groupby arithmetic_.\n",
    "This concept is easiest explained with an example:"
   ]
  },
  {
   "cell_type": "code",
   "execution_count": null,
   "metadata": {},
   "outputs": [],
   "source": [
    "gb = ds.groupby('time.month')\n",
    "ds_anom = gb - gb.mean(dim='time')\n",
    "ds_anom"
   ]
  },
  {
   "cell_type": "markdown",
   "metadata": {},
   "source": [
    "Now we can view the climate signal without the overwhelming influence of the seasonal cycle.\n",
    "\n",
    "_Timeseries at a single point in the North Atlantic_"
   ]
  },
  {
   "cell_type": "code",
   "execution_count": null,
   "metadata": {},
   "outputs": [],
   "source": [
    "ds_anom.sst.sel(lon=300, lat=50).plot()"
   ]
  },
  {
   "cell_type": "code",
   "execution_count": null,
   "metadata": {},
   "outputs": [],
   "source": [
    "# TODO: plot the difference between 2018-01-01 and 1960-01-01 (ds_anom)"
   ]
  },
  {
   "cell_type": "markdown",
   "metadata": {},
   "source": [
    "## Grouby-Related: Resample, Rolling, Coarsen\n",
    "\n",
    "\n",
    "### Resample\n",
    "\n",
    "Resample in xarray is nearly identical to Pandas.\n",
    "**It can be applied only to time-index dimensions.** Here we compute the five-year mean.\n",
    "It is effectively a group-by operation, and uses the same basic syntax.\n",
    "Note that resampling changes the length of the the output arrays."
   ]
  },
  {
   "cell_type": "code",
   "execution_count": null,
   "metadata": {},
   "outputs": [],
   "source": [
    "ds_anom_resample = ds_anom.resample(time='5Y').mean(dim='time')\n",
    "ds_anom_resample"
   ]
  },
  {
   "cell_type": "code",
   "execution_count": null,
   "metadata": {},
   "outputs": [],
   "source": [
    "ds_anom.sst.sel(lon=300, lat=50).plot()\n",
    "ds_anom_resample.sst.sel(lon=300, lat=50).plot(marker='o')"
   ]
  },
  {
   "cell_type": "code",
   "execution_count": null,
   "metadata": {},
   "outputs": [],
   "source": [
    "# TODO: plot the difference between 2020-12-31 and 1960-12-31 for ds_anom_resample"
   ]
  },
  {
   "cell_type": "markdown",
   "metadata": {},
   "source": [
    "### Rolling\n",
    "\n",
    "Rolling is also similar to pandas.\n",
    "It does not change the length of the arrays.\n",
    "Instead, it allows a moving window to be applied to the data at each point."
   ]
  },
  {
   "cell_type": "code",
   "execution_count": null,
   "metadata": {},
   "outputs": [],
   "source": [
    "# TODO: apply rolling of ds_anom for every 12-month, center=True"
   ]
  },
  {
   "cell_type": "code",
   "execution_count": null,
   "metadata": {},
   "outputs": [],
   "source": [
    "ds_anom.sst.sel(lon=300, lat=50).plot(label='monthly anom')\n",
    "ds_anom_resample.sst.sel(lon=300, lat=50).plot(marker='o', label='5 year resample')\n",
    "ds_anom_rolling.sst.sel(lon=300, lat=50).plot(label='12 month rolling mean', color='k')\n",
    "plt.legend()"
   ]
  },
  {
   "cell_type": "markdown",
   "metadata": {},
   "source": [
    "## Coarsen\n",
    "\n",
    "`coarsen` is a simple way to reduce the size of your data along one or more axes.\n",
    "It is very similar to `resample` when operating on time dimensions; the key difference is that `coarsen` only operates on fixed blocks of data, irrespective of the coordinate values, while `resample` actually looks at the coordinates to figure out, e.g. what month a particular data point is in. \n",
    "\n",
    "For regularly-spaced monthly data beginning in January, the following should be equivalent to annual resampling.\n",
    "However, results would different for irregularly-spaced data."
   ]
  },
  {
   "cell_type": "code",
   "execution_count": null,
   "metadata": {},
   "outputs": [],
   "source": [
    "# TODO: apply coarsen along time dimension of 12-month (ds)"
   ]
  },
  {
   "cell_type": "markdown",
   "metadata": {},
   "source": [
    "We first plot the reference (before coarsening)"
   ]
  },
  {
   "cell_type": "code",
   "execution_count": null,
   "metadata": {},
   "outputs": [],
   "source": [
    "ds.sst.isel(time=0).plot()"
   ]
  },
  {
   "cell_type": "markdown",
   "metadata": {},
   "source": [
    "Coarsen also works on spatial coordinates (or any coordinates)."
   ]
  },
  {
   "cell_type": "code",
   "execution_count": null,
   "metadata": {},
   "outputs": [],
   "source": [
    "# TODO: coarsen lat/lon by a factor of 4 with boundary='pad'"
   ]
  },
  {
   "cell_type": "markdown",
   "metadata": {},
   "source": [
    "## An Advanced Example\n",
    "\n",
    "In this example we will show a realistic workflow with Xarray.\n",
    "We will\n",
    "- Load a \"basin mask\" dataset\n",
    "- Interpolate the basins to our SST dataset coordinates\n",
    "- Group the SST by basin\n",
    "- Convert to Pandas Dataframe and plot mean SST by basin"
   ]
  },
  {
   "cell_type": "code",
   "execution_count": null,
   "metadata": {},
   "outputs": [],
   "source": [
    "basin = xr.open_dataset('http://iridl.ldeo.columbia.edu/SOURCES/.NOAA/.NODC/.WOA09/.Masks/.basin/dods')\n",
    "basin"
   ]
  },
  {
   "cell_type": "code",
   "execution_count": null,
   "metadata": {},
   "outputs": [],
   "source": [
    "basin = basin.rename({'X': 'lon', 'Y': 'lat'})\n",
    "basin"
   ]
  },
  {
   "cell_type": "code",
   "execution_count": null,
   "metadata": {},
   "outputs": [],
   "source": [
    "basin_surf = basin.basin[0]\n",
    "basin_surf"
   ]
  },
  {
   "cell_type": "code",
   "execution_count": null,
   "metadata": {},
   "outputs": [],
   "source": [
    "basin_surf.plot(vmax=10)"
   ]
  },
  {
   "cell_type": "code",
   "execution_count": null,
   "metadata": {},
   "outputs": [],
   "source": [
    "basin_surf_interp = basin_surf.interp_like(ds.sst, method='nearest')\n",
    "basin_surf_interp.plot(vmax=10)\n",
    "\n",
    "ds.sst.isel(time=0).shape, basin_surf.shape"
   ]
  },
  {
   "cell_type": "code",
   "execution_count": null,
   "metadata": {},
   "outputs": [],
   "source": [
    "basin_mean_sst = ds.sst.groupby(basin_surf_interp).mean()\n",
    "basin_mean_sst"
   ]
  },
  {
   "cell_type": "code",
   "execution_count": null,
   "metadata": {},
   "outputs": [],
   "source": [
    "df = basin_mean_sst.mean('time').to_dataframe()\n",
    "df"
   ]
  },
  {
   "cell_type": "code",
   "execution_count": null,
   "metadata": {},
   "outputs": [],
   "source": [
    "import pandas as pd\n",
    "basin_names = basin_surf.attrs['CLIST'].split('\\n')\n",
    "basin_df = pd.Series(basin_names, index=np.arange(1, len(basin_names)+1))\n",
    "basin_df"
   ]
  },
  {
   "cell_type": "code",
   "execution_count": null,
   "metadata": {},
   "outputs": [],
   "source": [
    "df = df.join(basin_df.rename('basin_name'))"
   ]
  },
  {
   "cell_type": "code",
   "execution_count": null,
   "metadata": {},
   "outputs": [],
   "source": [
    "df.plot.bar(y='sst', x='basin_name')"
   ]
  },
  {
   "cell_type": "code",
   "execution_count": null,
   "metadata": {},
   "outputs": [],
   "source": []
  }
 ],
 "metadata": {
  "kernelspec": {
   "display_name": "Python 3 (ipykernel)",
   "language": "python",
   "name": "python3"
  },
  "language_info": {
   "codemirror_mode": {
    "name": "ipython",
    "version": 3
   },
   "file_extension": ".py",
   "mimetype": "text/x-python",
   "name": "python",
   "nbconvert_exporter": "python",
   "pygments_lexer": "ipython3",
   "version": "3.11.9"
  }
 },
 "nbformat": 4,
 "nbformat_minor": 4
}
